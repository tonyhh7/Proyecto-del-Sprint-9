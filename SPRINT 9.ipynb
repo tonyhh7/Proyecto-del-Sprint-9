{
 "cells": [
  {
   "cell_type": "markdown",
   "metadata": {},
   "source": [
    "# Proyecto Sprint 9.\n",
    "## Paso 1. Acceda los datos y prepáralos para el análisis\n",
    "Almacena los datos de visitas, pedidos y gastos en variables.  Optimiza los datos para el análisis. Asegúrate de que cada columna contenga el tipo de datos correcto. \n",
    "Rutas de archivos: \n",
    "\n",
    "/datasets/visits_log_us.csv Acceda el dataset\n",
    "/datasets/orders_log_us.csv Acceda el dataset\n",
    "/datasets/costs_us.csv Acceda el dataset"
   ]
  },
  {
   "cell_type": "markdown",
   "metadata": {},
   "source": [
    "### Inicializacion."
   ]
  },
  {
   "cell_type": "code",
   "execution_count": 1,
   "metadata": {},
   "outputs": [],
   "source": [
    "import pandas as pd\n",
    "import seaborn as sns\n",
    "import matplotlib.pyplot as plt"
   ]
  },
  {
   "cell_type": "markdown",
   "metadata": {},
   "source": [
    "### Cargar los datos."
   ]
  },
  {
   "cell_type": "code",
   "execution_count": 2,
   "metadata": {},
   "outputs": [],
   "source": [
    "visits = pd.read_csv(\"/datasets/visits_log_us.csv\")\n",
    "orders = pd.read_csv(\"/datasets/orders_log_us.csv\")\n",
    "costs = pd.read_csv(\"/datasets/costs_us.csv\")"
   ]
  },
  {
   "cell_type": "markdown",
   "metadata": {},
   "source": [
    "### Preparar los datos del df de visits."
   ]
  },
  {
   "cell_type": "code",
   "execution_count": 3,
   "metadata": {},
   "outputs": [
    {
     "name": "stdout",
     "output_type": "stream",
     "text": [
      "    Device               End Ts  Source Id             Start Ts  \\\n",
      "0    touch  2017-12-20 17:38:00          4  2017-12-20 17:20:00   \n",
      "1  desktop  2018-02-19 17:21:00          2  2018-02-19 16:53:00   \n",
      "2    touch  2017-07-01 01:54:00          5  2017-07-01 01:54:00   \n",
      "3  desktop  2018-05-20 11:23:00          9  2018-05-20 10:59:00   \n",
      "4  desktop  2017-12-27 14:06:00          3  2017-12-27 14:06:00   \n",
      "\n",
      "                    Uid  \n",
      "0  16879256277535980062  \n",
      "1    104060357244891740  \n",
      "2   7459035603376831527  \n",
      "3  16174680259334210214  \n",
      "4   9969694820036681168  \n",
      " \n",
      "<class 'pandas.core.frame.DataFrame'>\n",
      "RangeIndex: 359400 entries, 0 to 359399\n",
      "Data columns (total 5 columns):\n",
      " #   Column     Non-Null Count   Dtype \n",
      "---  ------     --------------   ----- \n",
      " 0   Device     359400 non-null  object\n",
      " 1   End Ts     359400 non-null  object\n",
      " 2   Source Id  359400 non-null  int64 \n",
      " 3   Start Ts   359400 non-null  object\n",
      " 4   Uid        359400 non-null  uint64\n",
      "dtypes: int64(1), object(3), uint64(1)\n",
      "memory usage: 13.7+ MB\n",
      "None\n",
      " \n",
      "           Source Id           Uid\n",
      "count  359400.000000  3.594000e+05\n",
      "mean        3.750515  9.202557e+18\n",
      "std         1.917116  5.298433e+18\n",
      "min         1.000000  1.186350e+13\n",
      "25%         3.000000  4.613407e+18\n",
      "50%         4.000000  9.227413e+18\n",
      "75%         5.000000  1.372824e+19\n",
      "max        10.000000  1.844668e+19\n",
      " \n",
      "0\n"
     ]
    }
   ],
   "source": [
    "print(visits.head())\n",
    "print(\" \")\n",
    "print(visits.info())\n",
    "print(\" \")\n",
    "print(visits.describe())\n",
    "print(\" \")\n",
    "print(visits.duplicated().sum())"
   ]
  },
  {
   "cell_type": "markdown",
   "metadata": {},
   "source": [
    "Una vez vistos los datos correspondientes a \"visits\", podemos ver que los tipos de datos de cuatro de las cinco columnas son incorrectos, esto debido a que, en la columna \"Device\" el tipo de datos que tiene es el de \"object\" pero esta columna deberia de tener el tipo de dato de \"category\", esto debido a que en la muestra inicial solo muestra dos diferentes tipos de dispositivos, luego en segundo lugar tenemos la columna \"End Ts\" que de nuevo esta en tipo de datos \"object\" cuando deberia de tener el tipo de datos de \"datetime\", tal y como sucede con la columna \"Start Ts\", por ultimo, en el caso de la columna \"Source Id\" deberia de tener un tipo de datos \"uint64\" como pasa en el caso de la columna \"Uid\", esto debido a que es un numero id que sirve para identificar simplemente.\n",
    "\n",
    "Del mismo modo podemos ver que no hay duplicados."
   ]
  },
  {
   "cell_type": "code",
   "execution_count": 4,
   "metadata": {},
   "outputs": [
    {
     "name": "stdout",
     "output_type": "stream",
     "text": [
      "<class 'pandas.core.frame.DataFrame'>\n",
      "RangeIndex: 359400 entries, 0 to 359399\n",
      "Data columns (total 5 columns):\n",
      " #   Column     Non-Null Count   Dtype         \n",
      "---  ------     --------------   -----         \n",
      " 0   Device     359400 non-null  category      \n",
      " 1   End Ts     359400 non-null  datetime64[ns]\n",
      " 2   Source Id  359400 non-null  uint64        \n",
      " 3   Start Ts   359400 non-null  datetime64[ns]\n",
      " 4   Uid        359400 non-null  uint64        \n",
      "dtypes: category(1), datetime64[ns](2), uint64(2)\n",
      "memory usage: 11.3 MB\n",
      "None\n"
     ]
    }
   ],
   "source": [
    "visits['Device'] = visits[\"Device\"].astype('category')\n",
    "visits['End Ts'] = pd.to_datetime(visits['End Ts'], format=\"%Y-%m-%d %H:%M:%S\")\n",
    "visits['Source Id'] = visits['Source Id'].astype('uint64')\n",
    "visits['Start Ts'] = pd.to_datetime(visits['Start Ts'], format=\"%Y-%m-%d %H:%M:%S\")\n",
    "print(visits.info())"
   ]
  },
  {
   "cell_type": "markdown",
   "metadata": {},
   "source": [
    "### Preparar los datos del df de orders."
   ]
  },
  {
   "cell_type": "code",
   "execution_count": 5,
   "metadata": {},
   "outputs": [
    {
     "name": "stdout",
     "output_type": "stream",
     "text": [
      "                Buy Ts  Revenue                   Uid\n",
      "0  2017-06-01 00:10:00    17.00  10329302124590727494\n",
      "1  2017-06-01 00:25:00     0.55  11627257723692907447\n",
      "2  2017-06-01 00:27:00     0.37  17903680561304213844\n",
      "3  2017-06-01 00:29:00     0.55  16109239769442553005\n",
      "4  2017-06-01 07:58:00     0.37  14200605875248379450\n",
      " \n",
      "<class 'pandas.core.frame.DataFrame'>\n",
      "RangeIndex: 50415 entries, 0 to 50414\n",
      "Data columns (total 3 columns):\n",
      " #   Column   Non-Null Count  Dtype  \n",
      "---  ------   --------------  -----  \n",
      " 0   Buy Ts   50415 non-null  object \n",
      " 1   Revenue  50415 non-null  float64\n",
      " 2   Uid      50415 non-null  uint64 \n",
      "dtypes: float64(1), object(1), uint64(1)\n",
      "memory usage: 1.2+ MB\n",
      "None\n",
      " \n",
      "            Revenue           Uid\n",
      "count  50415.000000  5.041500e+04\n",
      "mean       4.999647  9.098161e+18\n",
      "std       21.818359  5.285742e+18\n",
      "min        0.000000  3.135781e+14\n",
      "25%        1.220000  4.533567e+18\n",
      "50%        2.500000  9.102274e+18\n",
      "75%        4.890000  1.368290e+19\n",
      "max     2633.280000  1.844617e+19\n",
      " \n",
      "0\n"
     ]
    }
   ],
   "source": [
    "print(orders.head())\n",
    "print(\" \")\n",
    "print(orders.info())\n",
    "print(\" \")\n",
    "print(orders.describe())\n",
    "print(\" \")\n",
    "print(orders.duplicated().sum())"
   ]
  },
  {
   "cell_type": "markdown",
   "metadata": {},
   "source": [
    "Una vez vistos los datos correspondientes a \"order\", podemos ver que los tipos de datos de la columna \"Buy Ts\" estan con un tipo de datos \"object\" cuando deberia de tener el tipo de datos de \"datetime\".\n",
    "\n",
    "Gracias al metodo describe podemos ver que la ganancia promedio es de 4.999647, que la ganancia minima es de 0 y la maxima es de 2633.28 y que hay una desviacion estandar de 21.818359.\n",
    "\n",
    "Del mismo modo podemos ver que no hay duplicados."
   ]
  },
  {
   "cell_type": "code",
   "execution_count": 6,
   "metadata": {},
   "outputs": [
    {
     "name": "stdout",
     "output_type": "stream",
     "text": [
      "<class 'pandas.core.frame.DataFrame'>\n",
      "RangeIndex: 50415 entries, 0 to 50414\n",
      "Data columns (total 3 columns):\n",
      " #   Column   Non-Null Count  Dtype         \n",
      "---  ------   --------------  -----         \n",
      " 0   Buy Ts   50415 non-null  datetime64[ns]\n",
      " 1   Revenue  50415 non-null  float64       \n",
      " 2   Uid      50415 non-null  uint64        \n",
      "dtypes: datetime64[ns](1), float64(1), uint64(1)\n",
      "memory usage: 1.2 MB\n"
     ]
    }
   ],
   "source": [
    "orders['Buy Ts'] = pd.to_datetime(orders['Buy Ts'], format=\"%Y-%m-%d %H:%M:%S\")\n",
    "orders.info()"
   ]
  },
  {
   "cell_type": "markdown",
   "metadata": {},
   "source": [
    "### Preparar los datos del df de costs."
   ]
  },
  {
   "cell_type": "code",
   "execution_count": 7,
   "metadata": {},
   "outputs": [
    {
     "name": "stdout",
     "output_type": "stream",
     "text": [
      "   source_id          dt  costs\n",
      "0          1  2017-06-01  75.20\n",
      "1          1  2017-06-02  62.25\n",
      "2          1  2017-06-03  36.53\n",
      "3          1  2017-06-04  55.00\n",
      "4          1  2017-06-05  57.08\n",
      " \n",
      "<class 'pandas.core.frame.DataFrame'>\n",
      "RangeIndex: 2542 entries, 0 to 2541\n",
      "Data columns (total 3 columns):\n",
      " #   Column     Non-Null Count  Dtype  \n",
      "---  ------     --------------  -----  \n",
      " 0   source_id  2542 non-null   int64  \n",
      " 1   dt         2542 non-null   object \n",
      " 2   costs      2542 non-null   float64\n",
      "dtypes: float64(1), int64(1), object(1)\n",
      "memory usage: 59.7+ KB\n",
      "None\n",
      " \n",
      "         source_id        costs\n",
      "count  2542.000000  2542.000000\n",
      "mean      4.857199   129.477427\n",
      "std       3.181581   156.296628\n",
      "min       1.000000     0.540000\n",
      "25%       2.000000    21.945000\n",
      "50%       4.000000    77.295000\n",
      "75%       9.000000   170.065000\n",
      "max      10.000000  1788.280000\n",
      " \n",
      "0\n"
     ]
    }
   ],
   "source": [
    "print(costs.head())\n",
    "print(\" \")\n",
    "print(costs.info())\n",
    "print(\" \")\n",
    "print(costs.describe())\n",
    "print(\" \")\n",
    "print(costs.duplicated().sum())"
   ]
  },
  {
   "cell_type": "markdown",
   "metadata": {},
   "source": [
    "Una vez vistos los datos correspondientes a \"costs\", podemos ver que los tipos de datos de dos de las tres columnas son incorrectos, esto debido a que, en la columna \"source_id\" el tipo de datos que tiene es el de \"int64\" pero esta columna deberia de tener el tipo de dato de \"uint64\", esto debido a que es un numero id que sirve para identificar simplemente, luego en segundo lugar tenemos la columna \"dt\" que tiene el tipo de datos \"object\" cuando deberia de tener el tipo de datos de \"datetime\". \n",
    "\n",
    "Gracias al metodo describe podemos ver que el costo promedio es de 129.477427, que el costo minimo es de 0.54 y el maximo es de 1788.28, asi como tambien podemos ver que hay una desviacion estandar de 156.296628.\n",
    "\n",
    "Del mismo modo podemos ver que no hay duplicados."
   ]
  },
  {
   "cell_type": "code",
   "execution_count": 8,
   "metadata": {},
   "outputs": [
    {
     "name": "stdout",
     "output_type": "stream",
     "text": [
      "<class 'pandas.core.frame.DataFrame'>\n",
      "RangeIndex: 2542 entries, 0 to 2541\n",
      "Data columns (total 3 columns):\n",
      " #   Column     Non-Null Count  Dtype         \n",
      "---  ------     --------------  -----         \n",
      " 0   source_id  2542 non-null   uint64        \n",
      " 1   dt         2542 non-null   datetime64[ns]\n",
      " 2   costs      2542 non-null   float64       \n",
      "dtypes: datetime64[ns](1), float64(1), uint64(1)\n",
      "memory usage: 59.7 KB\n"
     ]
    }
   ],
   "source": [
    "costs['source_id'] = costs['source_id'].astype('uint64')\n",
    "costs['dt'] = pd.to_datetime(costs['dt'], format = \"%Y-%m-%d\")\n",
    "costs.info()"
   ]
  },
  {
   "cell_type": "markdown",
   "metadata": {},
   "source": [
    "## Paso 2. Haz informes y calcula métricas "
   ]
  },
  {
   "cell_type": "markdown",
   "metadata": {},
   "source": [
    "### Visitas:"
   ]
  },
  {
   "cell_type": "markdown",
   "metadata": {},
   "source": [
    "¿Cuántas personas lo usan cada día, semana y mes?"
   ]
  },
  {
   "cell_type": "code",
   "execution_count": 9,
   "metadata": {},
   "outputs": [
    {
     "name": "stdout",
     "output_type": "stream",
     "text": [
      "              Uid\n",
      "session_date     \n",
      "2017-06-01    605\n",
      "2017-06-02    608\n",
      "2017-06-03    445\n",
      "2017-06-04    476\n",
      "2017-06-05    820\n",
      "               Uid\n",
      "session_week      \n",
      "1             6918\n",
      "2             6703\n",
      "3             6972\n",
      "4             7060\n",
      "5             8111\n",
      "                 Uid\n",
      "session_month       \n",
      "1              28716\n",
      "2              28749\n",
      "3              27473\n",
      "4              21008\n",
      "5              20701\n"
     ]
    }
   ],
   "source": [
    "visits['session_date'] = visits['Start Ts'].dt.date\n",
    "day_total = visits.groupby('session_date').agg({'Uid': 'nunique'})\n",
    "print(day_total.head())\n",
    "visits['session_week'] = visits['Start Ts'].dt.week\n",
    "week_total = visits.groupby('session_week').agg({'Uid': 'nunique'})\n",
    "print(week_total.head())\n",
    "visits['session_month'] = visits['Start Ts'].dt.month\n",
    "month_total = visits.groupby('session_month').agg({'Uid': 'nunique'})\n",
    "print(month_total.head())"
   ]
  },
  {
   "cell_type": "markdown",
   "metadata": {},
   "source": [
    "Con base en la respuesta a la pregunta anterior podemos ver como se responde con por ejemplo en el dia 1 hubo 605 usuarios, en el mes 2 hubo 608 usuarios por ejemplo, en la semana numero 1 hubo 6918 usuarios, en la semana 2 hubo 6703 usuarios por ejemplo, asi como tambien en el mes 1 hubo 28716 usuarios, en el mes 2 hubo 28749 por ejemplo."
   ]
  },
  {
   "cell_type": "markdown",
   "metadata": {},
   "source": [
    "¿Cuántas sesiones hay por día? (Un usuario puede tener más de una sesión)."
   ]
  },
  {
   "cell_type": "code",
   "execution_count": 10,
   "metadata": {},
   "outputs": [
    {
     "name": "stdout",
     "output_type": "stream",
     "text": [
      "session_date\n",
      "2017-06-01    664\n",
      "2017-06-02    658\n",
      "2017-06-03    477\n",
      "2017-06-04    510\n",
      "2017-06-05    893\n",
      "dtype: int64\n"
     ]
    }
   ],
   "source": [
    "daily_sessions = visits.groupby('session_date').size()\n",
    "print(daily_sessions.head())"
   ]
  },
  {
   "cell_type": "markdown",
   "metadata": {},
   "source": [
    "Con base en la respuesta a la pregunta anterior podemos ver como se responde con la totalidad de sesiones que tiene la pagina por dia, como sucede en el 01 del 06 de 2017 en donde hubo 664 visitas, y en el dia siguiente hubo 658 visitas por ejemplo."
   ]
  },
  {
   "cell_type": "markdown",
   "metadata": {},
   "source": [
    "¿Cuál es la duración de cada sesión?"
   ]
  },
  {
   "cell_type": "code",
   "execution_count": 11,
   "metadata": {},
   "outputs": [
    {
     "name": "stdout",
     "output_type": "stream",
     "text": [
      "0   0 days 00:18:00\n",
      "1   0 days 00:28:00\n",
      "2   0 days 00:00:00\n",
      "3   0 days 00:24:00\n",
      "4   0 days 00:00:00\n",
      "Name: session_duration, dtype: timedelta64[ns]\n"
     ]
    }
   ],
   "source": [
    "visits['session_duration'] = visits['End Ts'] - visits['Start Ts']\n",
    "visits['Session Duration (minutes)'] = visits['session_duration'].dt.total_seconds() / 60\n",
    "print(visits['session_duration'].head())"
   ]
  },
  {
   "cell_type": "markdown",
   "metadata": {},
   "source": [
    "¿Con qué frecuencia los usuarios regresan?"
   ]
  },
  {
   "cell_type": "code",
   "execution_count": 12,
   "metadata": {},
   "outputs": [
    {
     "name": "stdout",
     "output_type": "stream",
     "text": [
      "cohort_age   0         1         2         3         4         5         6   \\\n",
      "cohort                                                                        \n",
      "2017-06     1.0  0.078664  0.053775  0.061392  0.068557  0.071423  0.061015   \n",
      "2017-07     1.0  0.056088  0.051294  0.056164  0.058219  0.048174  0.045358   \n",
      "2017-08     1.0  0.076908  0.062862  0.062764  0.050093  0.044004  0.036342   \n",
      "2017-09     1.0  0.085489  0.069205  0.050706  0.039392  0.037835  0.035860   \n",
      "2017-10     1.0  0.078608  0.052239  0.038958  0.034261  0.032221  0.021365   \n",
      "2017-11     1.0  0.078281  0.044113  0.038682  0.033727  0.023415  0.021800   \n",
      "2017-12     1.0  0.055802  0.037993  0.031107  0.020263  0.019036       NaN   \n",
      "2018-01     1.0  0.059715  0.039339  0.024973  0.020244       NaN       NaN   \n",
      "2018-02     1.0  0.057080  0.025454  0.020093       NaN       NaN       NaN   \n",
      "2018-03     1.0  0.041818  0.027053       NaN       NaN       NaN       NaN   \n",
      "2018-04     1.0  0.048380       NaN       NaN       NaN       NaN       NaN   \n",
      "2018-05     1.0       NaN       NaN       NaN       NaN       NaN       NaN   \n",
      "\n",
      "cohort_age        7         8         9         10        11  \n",
      "cohort                                                        \n",
      "2017-06     0.057772  0.052342  0.050833  0.040652  0.044951  \n",
      "2017-07     0.045738  0.038813  0.028615  0.027473       NaN  \n",
      "2017-08     0.039485  0.027895  0.026029       NaN       NaN  \n",
      "2017-09     0.024186  0.022809       NaN       NaN       NaN  \n",
      "2017-10     0.020364       NaN       NaN       NaN       NaN  \n",
      "2017-11          NaN       NaN       NaN       NaN       NaN  \n",
      "2017-12          NaN       NaN       NaN       NaN       NaN  \n",
      "2018-01          NaN       NaN       NaN       NaN       NaN  \n",
      "2018-02          NaN       NaN       NaN       NaN       NaN  \n",
      "2018-03          NaN       NaN       NaN       NaN       NaN  \n",
      "2018-04          NaN       NaN       NaN       NaN       NaN  \n",
      "2018-05          NaN       NaN       NaN       NaN       NaN  \n"
     ]
    },
    {
     "data": {
      "image/png": "[encoded data removed]",
      "text/plain": [
       "<Figure size 1200x800 with 2 Axes>"
      ]
     },
     "metadata": {},
     "output_type": "display_data"
    }
   ],
   "source": [
    "# Convertir la columna 'Start Ts' a datetime si no está en ese formato.\n",
    "visits['Start Ts'] = pd.to_datetime(visits['Start Ts'])\n",
    "\n",
    "# Crear la cohorte basada en el primer mes de cada usuario.\n",
    "visits['cohort'] = visits.groupby('Uid')['Start Ts'].transform('min').dt.to_period('M')\n",
    "\n",
    "# Crear la columna de mes en el que ocurrió la sesión.\n",
    "visits['session_month'] = visits['Start Ts'].dt.to_period('M')\n",
    "\n",
    "# Agrupar por cohorte y mes de sesión para contar los usuarios únicos.\n",
    "cohort_data = visits.groupby(['cohort', 'session_month']).agg({'Uid': 'nunique'}).reset_index()\n",
    "cohort_data = cohort_data.rename(columns={'Uid': 'user_count'})\n",
    "\n",
    "# Calcular la edad de la cohorte en meses.\n",
    "cohort_data['cohort_age'] = (cohort_data['session_month'] - cohort_data['cohort']).apply(lambda x: x.n)\n",
    "\n",
    "# Crear una tabla pivote para visualizar la retención.\n",
    "retention_pivot = cohort_data.pivot_table(index='cohort', columns='cohort_age', values='user_count')\n",
    "retention_pivot = retention_pivot.divide(retention_pivot.iloc[:,0], axis=0)  # Dividir por el número de usuarios iniciales para calcular la tasa de retención\n",
    "print(retention_pivot)\n",
    " \n",
    "# Visualizacion con una tabla de calor.\n",
    "plt.figure(figsize=(12, 8))\n",
    "sns.heatmap(retention_pivot, annot=True, fmt='.0%', cmap='Blues')\n",
    "plt.title('Retención de Usuarios por Cohorte')\n",
    "plt.ylabel('Cohorte (Mes de Primera Sesión)')\n",
    "plt.xlabel('Mes desde la Primera Sesión')\n",
    "plt.show()"
   ]
  },
  {
   "cell_type": "markdown",
   "metadata": {},
   "source": [
    "### Ventas:"
   ]
  },
  {
   "cell_type": "markdown",
   "metadata": {},
   "source": [
    "¿Cuándo empieza la gente a comprar? (En el análisis de KPI, generalmente nos interesa saber el tiempo que transcurre entre el registro y la conversión, es decir, cuando el usuario se convierte en cliente. Por ejemplo, si el registro y la primera compra ocurren el mismo día, el usuario podría caer en la categoría Conversion 0d. Si la primera compra ocurre al día siguiente, será Conversion 1d. Puedes usar cualquier enfoque que te permita comparar las conversiones de diferentes cohortes para que puedas determinar qué cohorte o canal de marketing es más efectivo.)"
   ]
  },
  {
   "cell_type": "code",
   "execution_count": 13,
   "metadata": {},
   "outputs": [
    {
     "name": "stdout",
     "output_type": "stream",
     "text": [
      "     cohort  days_to_conversion\n",
      "0   2017-06           46.409853\n",
      "1   2017-07           40.220098\n",
      "2   2017-08           33.194073\n",
      "3   2017-09           24.737083\n",
      "4   2017-10           16.851005\n",
      "5   2017-11           15.463163\n",
      "6   2017-12           10.636721\n",
      "7   2018-01            8.211286\n",
      "8   2018-02            5.199309\n",
      "9   2018-03            2.937984\n",
      "10  2018-04            2.083598\n",
      "11  2018-05            0.525043\n"
     ]
    },
    {
     "data": {
      "image/png": "[encoded data removed]",
      "text/plain": [
       "<Figure size 1000x600 with 1 Axes>"
      ]
     },
     "metadata": {},
     "output_type": "display_data"
    }
   ],
   "source": [
    "# Obtener la primera visita (registro) de cada usuario.\n",
    "first_visit = visits.groupby('Uid')['Start Ts'].min().reset_index(name = 'first_visit')\n",
    "\n",
    "# Obtener la primera compra de cada usuario.\n",
    "first_order = orders.groupby('Uid')['Buy Ts'].min().reset_index(name = 'first_order')\n",
    "\n",
    "# Unir la primera visita con la primera compra de cada usuario.\n",
    "conversion_data = pd.merge(first_visit, first_order, on='Uid', how='inner')\n",
    "\n",
    "# Calcular el número de días entre el registro y la primera compra.\n",
    "conversion_data['days_to_conversion'] = (conversion_data['first_order'] - conversion_data['first_visit']).dt.days\n",
    "\n",
    "# Crear una cohorte basada en el mes de la primera visita.\n",
    "conversion_data['cohort'] = conversion_data['first_visit'].dt.to_period('M')\n",
    "\n",
    "# Calcular el tiempo promedio de conversión por cohorte.\n",
    "cohort_conversion = conversion_data.groupby('cohort')['days_to_conversion'].mean().reset_index()\n",
    "print(cohort_conversion)\n",
    "\n",
    "# Visualización del tiempo promedio de conversión por cohorte.\n",
    "plt.figure(figsize=(10, 6))\n",
    "plt.plot(cohort_conversion['cohort'].astype(str), cohort_conversion['days_to_conversion'], marker='o')\n",
    "plt.xlabel('Cohorte (Mes de Registro)')\n",
    "plt.ylabel('Días hasta la Primera Compra')\n",
    "plt.title('Tiempo Promedio hasta la Conversión por Cohorte')\n",
    "plt.xticks(rotation=45)\n",
    "plt.grid(True)\n",
    "plt.show()\n"
   ]
  },
  {
   "cell_type": "markdown",
   "metadata": {},
   "source": [
    "¿Cuántos pedidos hacen durante un período de tiempo dado?"
   ]
  },
  {
   "cell_type": "code",
   "execution_count": 14,
   "metadata": {},
   "outputs": [
    {
     "name": "stdout",
     "output_type": "stream",
     "text": [
      "     Buy Ts  order_count\n",
      "0   2017-06         2354\n",
      "1   2017-07         2363\n",
      "2   2017-08         1807\n",
      "3   2017-09         3387\n",
      "4   2017-10         5679\n",
      "5   2017-11         5659\n",
      "6   2017-12         6218\n",
      "7   2018-01         4721\n",
      "8   2018-02         5281\n",
      "9   2018-03         5326\n",
      "10  2018-04         3273\n",
      "11  2018-05         4346\n",
      "12  2018-06            1\n"
     ]
    },
    {
     "data": {
      "image/png": "[encoded data removed]",
      "text/plain": [
       "<Figure size 1000x600 with 1 Axes>"
      ]
     },
     "metadata": {},
     "output_type": "display_data"
    }
   ],
   "source": [
    "orders_per_month = orders.groupby(orders['Buy Ts'].dt.to_period('M'))['Uid'].count().reset_index(name='order_count')\n",
    "print(orders_per_month)\n",
    "\n",
    "plt.figure(figsize=(10, 6))\n",
    "plt.bar(orders_per_month['Buy Ts'].astype(str), orders_per_month['order_count'])\n",
    "plt.xlabel('Mes')\n",
    "plt.ylabel('Número de Pedidos')\n",
    "plt.title('Pedidos por Mes')\n",
    "plt.xticks(rotation=45)\n",
    "plt.show()"
   ]
  },
  {
   "cell_type": "markdown",
   "metadata": {},
   "source": [
    "¿Cuál es el tamaño promedio de compra?"
   ]
  },
  {
   "cell_type": "code",
   "execution_count": 15,
   "metadata": {},
   "outputs": [
    {
     "name": "stdout",
     "output_type": "stream",
     "text": [
      "El tamaño promedio de compra es: $5.00\n",
      "   order_month   Revenue\n",
      "0      2017-06  4.060106\n",
      "1      2017-07  5.306589\n",
      "2      2017-08  4.847139\n",
      "3      2017-09  5.416448\n",
      "4      2017-10  4.928280\n",
      "5      2017-11  4.783518\n",
      "6      2017-12  5.852139\n",
      "7      2018-01  4.112927\n",
      "8      2018-02  4.840095\n",
      "9      2018-03  5.413930\n",
      "10     2018-04  5.150645\n",
      "11     2018-05  4.771279\n",
      "12     2018-06  3.420000\n"
     ]
    }
   ],
   "source": [
    "# Calcular el total de ingresos y el número de pedidos.\n",
    "total_revenue = orders['Revenue'].sum()\n",
    "total_orders = orders['Uid'].count()\n",
    "\n",
    "# Calcular el tamaño promedio de compra.\n",
    "average_order_value = total_revenue / total_orders\n",
    "print(f\"El tamaño promedio de compra es: ${average_order_value:.2f}\")\n",
    "\n",
    "orders['order_month'] = orders['Buy Ts'].dt.to_period('M')\n",
    "average_order_value_per_month = orders.groupby('order_month').agg({'Revenue': 'mean'}).reset_index()\n",
    "print(average_order_value_per_month)"
   ]
  },
  {
   "cell_type": "markdown",
   "metadata": {},
   "source": [
    "¿Cuánto dinero traen? (LTV)"
   ]
  },
  {
   "cell_type": "code",
   "execution_count": 16,
   "metadata": {},
   "outputs": [
    {
     "name": "stdout",
     "output_type": "stream",
     "text": [
      "El Valor del Tiempo de Vida (LTV) promedio es: $6.90\n"
     ]
    }
   ],
   "source": [
    "# Sumar los ingresos totales por cliente.\n",
    "customer_revenue = orders.groupby('Uid')['Revenue'].sum().reset_index(name='total_revenue')\n",
    "\n",
    "# Obtener la primera y última compra para cada cliente.\n",
    "first_purchase = orders.groupby('Uid')['Buy Ts'].min().reset_index(name='first_purchase')\n",
    "last_purchase = orders.groupby('Uid')['Buy Ts'].max().reset_index(name='last_purchase')\n",
    "\n",
    "# Calcular la duración de vida del cliente en días.\n",
    "customer_lifetime = pd.merge(first_purchase, last_purchase, on='Uid')\n",
    "customer_lifetime['customer_lifetime_days'] = (customer_lifetime['last_purchase'] - customer_lifetime['first_purchase']).dt.days\n",
    "\n",
    "# Unir los ingresos totales con la vida útil del cliente.\n",
    "customer_ltv = pd.merge(customer_revenue, customer_lifetime, on='Uid')\n",
    "\n",
    "# Calcular el LTV.\n",
    "customer_ltv['LTV'] = customer_ltv['total_revenue']  \n",
    "\n",
    "# Calcular el LTV promedio.\n",
    "average_ltv = customer_ltv['LTV'].mean()\n",
    "print(f\"El Valor del Tiempo de Vida (LTV) promedio es: ${average_ltv:.2f}\")"
   ]
  },
  {
   "cell_type": "markdown",
   "metadata": {},
   "source": [
    "### Marketing:"
   ]
  },
  {
   "cell_type": "markdown",
   "metadata": {},
   "source": [
    "¿Cuánto dinero se gastó?  (Total) "
   ]
  },
  {
   "cell_type": "code",
   "execution_count": 17,
   "metadata": {},
   "outputs": [
    {
     "name": "stdout",
     "output_type": "stream",
     "text": [
      "Gasto total: $329131.62\n"
     ]
    }
   ],
   "source": [
    "total_cost = costs['costs'].sum()\n",
    "print(f\"Gasto total: ${total_cost:.2f}\")"
   ]
  },
  {
   "cell_type": "markdown",
   "metadata": {},
   "source": [
    "¿Cuánto dinero se gastó?  (Por fuente de adquisición) "
   ]
  },
  {
   "cell_type": "code",
   "execution_count": 18,
   "metadata": {},
   "outputs": [
    {
     "name": "stdout",
     "output_type": "stream",
     "text": [
      "   source_id      costs\n",
      "0          1   20833.27\n",
      "1          2   42806.04\n",
      "2          3  141321.63\n",
      "3          4   61073.60\n",
      "4          5   51757.10\n",
      "5          9    5517.49\n",
      "6         10    5822.49\n"
     ]
    },
    {
     "data": {
      "image/png": "[encoded data removed]",
      "text/plain": [
       "<Figure size 1000x600 with 1 Axes>"
      ]
     },
     "metadata": {},
     "output_type": "display_data"
    }
   ],
   "source": [
    "spend_by_source = costs.groupby('source_id')['costs'].sum().reset_index()\n",
    "print(spend_by_source)\n",
    "\n",
    "# Visualización del gasto por fuente de adquisicion.\n",
    "plt.figure(figsize=(10, 6))\n",
    "plt.plot(spend_by_source['source_id'].astype(str), spend_by_source['costs'], marker='o')\n",
    "plt.xlabel('Source')\n",
    "plt.ylabel('Gasto Total ($)')\n",
    "plt.title('Gasto Total por fuente de adquisicion')\n",
    "plt.xticks(rotation=45)\n",
    "plt.grid(True)\n",
    "plt.show()"
   ]
  },
  {
   "cell_type": "markdown",
   "metadata": {},
   "source": [
    "¿Cuánto dinero se gastó?  (A lo largo del tiempo) "
   ]
  },
  {
   "cell_type": "code",
   "execution_count": 19,
   "metadata": {},
   "outputs": [
    {
     "name": "stdout",
     "output_type": "stream",
     "text": [
      "      month     costs\n",
      "0   2017-06  18015.00\n",
      "1   2017-07  18240.59\n",
      "2   2017-08  14790.54\n",
      "3   2017-09  24368.91\n",
      "4   2017-10  36322.88\n",
      "5   2017-11  37907.88\n",
      "6   2017-12  38315.35\n",
      "7   2018-01  33518.52\n",
      "8   2018-02  32723.03\n",
      "9   2018-03  30415.27\n",
      "10  2018-04  22289.38\n",
      "11  2018-05  22224.27\n"
     ]
    },
    {
     "data": {
      "image/png": "[encoded data removed]",
      "text/plain": [
       "<Figure size 1000x600 with 1 Axes>"
      ]
     },
     "metadata": {},
     "output_type": "display_data"
    }
   ],
   "source": [
    "costs['month'] = costs['dt'].dt.to_period('M')\n",
    "spend_by_month = costs.groupby('month')['costs'].sum().reset_index()\n",
    "print(spend_by_month)\n",
    "\n",
    "# Visualización del gasto por mes.\n",
    "plt.figure(figsize=(10, 6))\n",
    "plt.plot(spend_by_month['month'].astype(str), spend_by_month['costs'], marker='o')\n",
    "plt.xlabel('Mes')\n",
    "plt.ylabel('Gasto Total ($)')\n",
    "plt.title('Gasto Total a lo Largo del Tiempo')\n",
    "plt.xticks(rotation=45)\n",
    "plt.grid(True)\n",
    "plt.show()"
   ]
  },
  {
   "cell_type": "markdown",
   "metadata": {},
   "source": [
    "¿Cuál fue el costo de adquisición de clientes de cada una de las fuentes?"
   ]
  },
  {
   "cell_type": "code",
   "execution_count": 20,
   "metadata": {},
   "outputs": [
    {
     "name": "stdout",
     "output_type": "stream",
     "text": [
      "   source_id        CAC\n",
      "0          1   2.918642\n",
      "1          2   5.859828\n",
      "2          3  10.206676\n",
      "3          4   4.284965\n",
      "4          5   5.096209\n",
      "5          9   1.975471\n",
      "6         10   3.283976\n"
     ]
    },
    {
     "data": {
      "image/png": "[encoded data removed]",
      "text/plain": [
       "<Figure size 1000x600 with 1 Axes>"
      ]
     },
     "metadata": {},
     "output_type": "display_data"
    }
   ],
   "source": [
    "# Unir los DataFrames visits y orders por Uid.\n",
    "clients = pd.merge(visits, orders, on='Uid', how='inner')\n",
    "clients = clients[['Uid', 'Source Id', 'Buy Ts', 'Revenue']]\n",
    "\n",
    "# Calcular el número de clientes únicos por fuente de adquisición.\n",
    "customers_per_source = clients.groupby('Source Id')['Uid'].nunique().reset_index(name='total_customers')\n",
    "\n",
    "# Agrupar los costos por fuente de adquisición.\n",
    "cost_per_source = costs.groupby('source_id')['costs'].sum().reset_index(name='total_cost')\n",
    "\n",
    "# Unir los costos con el número de clientes por fuente de adquisición.\n",
    "cac_per_source = pd.merge(cost_per_source, customers_per_source, left_on='source_id', right_on='Source Id')\n",
    "\n",
    "# Calcular el CAC (Costo de Adquisición de Clientes).\n",
    "cac_per_source['CAC'] = cac_per_source['total_cost'] / cac_per_source['total_customers']\n",
    "\n",
    "# Ver el resultado final del CAC.\n",
    "print(cac_per_source[['source_id', 'CAC']])\n",
    "\n",
    "# Gráfico de líneas del CAC.\n",
    "plt.figure(figsize=(10, 6))\n",
    "plt.plot(cac_per_source['source_id'], cac_per_source['CAC'], marker='o', linestyle='-', color='b')\n",
    "plt.title('Costo de Adquisición de Clientes (CAC) por Fuente de Adquisición')\n",
    "plt.xlabel('Fuente de Adquisición (source_id)')\n",
    "plt.ylabel('CAC')\n",
    "plt.grid(True)\n",
    "plt.show()"
   ]
  },
  {
   "cell_type": "markdown",
   "metadata": {},
   "source": [
    "¿Cuán rentables eran las inversiones? (ROMI)\n",
    "\n",
    "Traza gráficos para mostrar cómo difieren estas métricas para varios dispositivos y fuentes de anuncios y cómo cambian con el tiempo. "
   ]
  },
  {
   "cell_type": "code",
   "execution_count": 21,
   "metadata": {},
   "outputs": [
    {
     "name": "stdout",
     "output_type": "stream",
     "text": [
      "   source_id          ROMI\n",
      "0          1  10931.394351\n",
      "1          2   6063.123732\n",
      "2          3    109.938111\n",
      "3          4    713.264930\n",
      "4          5   2182.734427\n",
      "5          9    558.673600\n",
      "6         10    151.082097\n"
     ]
    },
    {
     "data": {
      "image/png": "[encoded data removed]",
      "text/plain": [
       "<Figure size 1000x600 with 1 Axes>"
      ]
     },
     "metadata": {},
     "output_type": "display_data"
    }
   ],
   "source": [
    "# Agrupar los ingresos por fuente de adquisición.\n",
    "revenue_per_source = clients.groupby('Source Id')['Revenue'].sum().reset_index(name='total_revenue')\n",
    "\n",
    "# Unir los ingresos con los costos por fuente de adquisición.\n",
    "romi_per_source = pd.merge(revenue_per_source, cost_per_source, left_on='Source Id', right_on='source_id')\n",
    "\n",
    "# Calcular el ROMI: (Ingresos - Costos) / Costos * 100.\n",
    "romi_per_source['ROMI'] = (romi_per_source['total_revenue'] - romi_per_source['total_cost']) / romi_per_source['total_cost'] * 100\n",
    "\n",
    "# Ver el resultado final del ROMI.\n",
    "print(romi_per_source[['source_id', 'ROMI']])\n",
    "\n",
    "# Gráfico de líneas del ROMI.\n",
    "plt.figure(figsize=(10, 6))\n",
    "plt.plot(romi_per_source['source_id'], romi_per_source['ROMI'], marker='o', linestyle='-', color='g')\n",
    "plt.title('Retorno sobre la Inversión en Marketing (ROMI) por Fuente de Adquisición')\n",
    "plt.xlabel('Fuente de Adquisición (source_id)')\n",
    "plt.ylabel('ROMI (%)')\n",
    "plt.grid(True)\n",
    "plt.show()"
   ]
  },
  {
   "cell_type": "markdown",
   "metadata": {},
   "source": [
    "## Paso 3. Escribe una conclusión: aconseja a los expertos de marketing cuánto dinero invertir y dónde."
   ]
  },
  {
   "cell_type": "markdown",
   "metadata": {},
   "source": [
    "¿Qué fuentes/plataformas recomendarías?"
   ]
  },
  {
   "cell_type": "markdown",
   "metadata": {},
   "source": [
    "En el caso de inversion.\n",
    "\n",
    "En este caso yo recomiendo las siguientes fuentes: la fuente numero 9 con un CAC de 1.975471, luego la fuente numero 1 con un CAC de 2.918642, posteriormente la fuente numero 10 con un CAC de 3.283976.\n",
    "\n",
    "En el caso de rentabilidad.\n",
    "\n",
    "Desde este otro punto de vista yo recomiendo la fuente numero 1 con un ROMI de 10931.394351%, luego la fuente numero 2 con un ROMI de 6063.123732%, por ultimo en tercer lugar yo recomiendo la fuente numero 5 con un ROMI de 2182.734427%."
   ]
  },
  {
   "cell_type": "markdown",
   "metadata": {},
   "source": [
    "Fundamenta tu selección: ¿en qué métricas te enfocaste?  ¿Por qué? ¿Qué conclusiones sacaste después de encontrar los valores métricos?"
   ]
  },
  {
   "cell_type": "markdown",
   "metadata": {},
   "source": [
    "Me base en las metricas antes obtenidas, como lo son el CAC y el ROMI, esto debido a que son las metricas que mejor me ayudan a comprender el impacto de la inversion en marketing dentro de las diferentes fuentes.\n",
    "\n",
    "Conclusión final: Dependiendo del objetivo de marketing, ya sea minimizar los costos o maximizar la rentabilidad, se puede adaptar la estrategia de inversión, sin embargo, si el objetivo es encontrar una mejor opcion con un menor costo, pero una mayor rentabilidad, la fuente indicada es la numero 1."
   ]
  }
 ],
 "metadata": {
  "ExecuteTimeLog": [
   {
    "duration": 276,
    "start_time": "2024-10-05T10:23:45.342Z"
   },
   {
    "duration": 386,
    "start_time": "2024-10-05T10:24:58.856Z"
   },
   {
    "duration": 417,
    "start_time": "2024-10-05T10:26:28.122Z"
   },
   {
    "duration": 2552,
    "start_time": "2024-10-05T10:28:01.973Z"
   },
   {
    "duration": 355,
    "start_time": "2024-10-05T10:28:04.527Z"
   },
   {
    "duration": 227,
    "start_time": "2024-10-05T10:30:06.686Z"
   },
   {
    "duration": 211,
    "start_time": "2024-10-05T10:30:47.507Z"
   },
   {
    "duration": 228,
    "start_time": "2024-10-05T10:31:33.560Z"
   },
   {
    "duration": 223,
    "start_time": "2024-10-05T10:31:51.455Z"
   },
   {
    "duration": 217,
    "start_time": "2024-10-05T10:32:37.691Z"
   },
   {
    "duration": 152,
    "start_time": "2024-10-05T10:47:34.362Z"
   },
   {
    "duration": 22,
    "start_time": "2024-10-05T10:48:18.351Z"
   },
   {
    "duration": 23,
    "start_time": "2024-10-05T10:49:30.857Z"
   },
   {
    "duration": 27,
    "start_time": "2024-10-05T10:50:38.232Z"
   },
   {
    "duration": 17,
    "start_time": "2024-10-05T10:54:08.272Z"
   },
   {
    "duration": 15,
    "start_time": "2024-10-05T10:54:33.733Z"
   },
   {
    "duration": 778,
    "start_time": "2024-10-05T10:54:41.907Z"
   },
   {
    "duration": 4,
    "start_time": "2024-10-05T10:54:42.687Z"
   },
   {
    "duration": 0,
    "start_time": "2024-10-05T10:54:42.693Z"
   },
   {
    "duration": 1,
    "start_time": "2024-10-05T10:54:42.694Z"
   },
   {
    "duration": 0,
    "start_time": "2024-10-05T10:54:42.696Z"
   },
   {
    "duration": 0,
    "start_time": "2024-10-05T10:54:42.697Z"
   },
   {
    "duration": 358,
    "start_time": "2024-10-05T10:55:15.923Z"
   },
   {
    "duration": 794,
    "start_time": "2024-10-05T10:55:22.456Z"
   },
   {
    "duration": 364,
    "start_time": "2024-10-05T10:55:23.252Z"
   },
   {
    "duration": 257,
    "start_time": "2024-10-05T10:55:23.617Z"
   },
   {
    "duration": 161,
    "start_time": "2024-10-05T10:55:23.876Z"
   },
   {
    "duration": 31,
    "start_time": "2024-10-05T10:55:24.039Z"
   },
   {
    "duration": 15,
    "start_time": "2024-10-05T10:55:24.073Z"
   },
   {
    "duration": 17,
    "start_time": "2024-10-05T10:57:31.670Z"
   },
   {
    "duration": 10,
    "start_time": "2024-10-05T11:00:13.262Z"
   },
   {
    "duration": 2463,
    "start_time": "2024-10-07T07:06:06.568Z"
   },
   {
    "duration": 440,
    "start_time": "2024-10-07T07:06:09.033Z"
   },
   {
    "duration": 217,
    "start_time": "2024-10-07T07:06:09.475Z"
   },
   {
    "duration": 155,
    "start_time": "2024-10-07T07:06:09.695Z"
   },
   {
    "duration": 28,
    "start_time": "2024-10-07T07:06:09.852Z"
   },
   {
    "duration": 28,
    "start_time": "2024-10-07T07:06:09.882Z"
   },
   {
    "duration": 16,
    "start_time": "2024-10-07T07:06:09.911Z"
   },
   {
    "duration": 9,
    "start_time": "2024-10-07T07:06:09.929Z"
   },
   {
    "duration": 13,
    "start_time": "2024-10-07T07:06:09.940Z"
   },
   {
    "duration": 281,
    "start_time": "2024-10-07T07:10:52.721Z"
   },
   {
    "duration": 144,
    "start_time": "2024-10-07T07:11:16.768Z"
   },
   {
    "duration": 261,
    "start_time": "2024-10-07T07:17:38.275Z"
   },
   {
    "duration": 254,
    "start_time": "2024-10-07T07:22:13.713Z"
   },
   {
    "duration": 249,
    "start_time": "2024-10-07T07:22:41.893Z"
   },
   {
    "duration": 21,
    "start_time": "2024-10-07T08:17:10.231Z"
   },
   {
    "duration": 21,
    "start_time": "2024-10-07T08:18:40.567Z"
   },
   {
    "duration": 6,
    "start_time": "2024-10-07T08:22:38.937Z"
   },
   {
    "duration": 825,
    "start_time": "2024-10-07T09:22:45.545Z"
   },
   {
    "duration": 830,
    "start_time": "2024-10-07T09:23:24.516Z"
   },
   {
    "duration": 775,
    "start_time": "2024-10-07T09:23:39.782Z"
   },
   {
    "duration": 2670,
    "start_time": "2024-10-07T18:10:42.428Z"
   },
   {
    "duration": 471,
    "start_time": "2024-10-07T18:10:45.101Z"
   },
   {
    "duration": 250,
    "start_time": "2024-10-07T18:10:45.574Z"
   },
   {
    "duration": 160,
    "start_time": "2024-10-07T18:10:45.827Z"
   },
   {
    "duration": 35,
    "start_time": "2024-10-07T18:10:45.989Z"
   },
   {
    "duration": 16,
    "start_time": "2024-10-07T18:10:46.026Z"
   },
   {
    "duration": 16,
    "start_time": "2024-10-07T18:10:46.044Z"
   },
   {
    "duration": 9,
    "start_time": "2024-10-07T18:10:46.062Z"
   },
   {
    "duration": 308,
    "start_time": "2024-10-07T18:10:46.073Z"
   },
   {
    "duration": 30,
    "start_time": "2024-10-07T18:10:46.384Z"
   },
   {
    "duration": 237,
    "start_time": "2024-10-07T18:10:46.416Z"
   },
   {
    "duration": 0,
    "start_time": "2024-10-07T18:10:46.655Z"
   },
   {
    "duration": 420,
    "start_time": "2024-10-07T18:11:01.082Z"
   },
   {
    "duration": 12,
    "start_time": "2024-10-07T18:11:30.874Z"
   },
   {
    "duration": 939,
    "start_time": "2024-10-07T18:11:39.282Z"
   },
   {
    "duration": 2722,
    "start_time": "2024-10-08T19:51:52.988Z"
   },
   {
    "duration": 521,
    "start_time": "2024-10-08T19:51:55.713Z"
   },
   {
    "duration": 249,
    "start_time": "2024-10-08T19:51:56.235Z"
   },
   {
    "duration": 159,
    "start_time": "2024-10-08T19:51:56.486Z"
   },
   {
    "duration": 28,
    "start_time": "2024-10-08T19:51:56.648Z"
   },
   {
    "duration": 15,
    "start_time": "2024-10-08T19:51:56.678Z"
   },
   {
    "duration": 38,
    "start_time": "2024-10-08T19:51:56.695Z"
   },
   {
    "duration": 11,
    "start_time": "2024-10-08T19:51:56.735Z"
   },
   {
    "duration": 289,
    "start_time": "2024-10-08T19:51:56.748Z"
   },
   {
    "duration": 24,
    "start_time": "2024-10-08T19:51:57.040Z"
   },
   {
    "duration": 10,
    "start_time": "2024-10-08T19:51:57.065Z"
   },
   {
    "duration": 867,
    "start_time": "2024-10-08T19:51:57.077Z"
   },
   {
    "duration": 337,
    "start_time": "2024-10-08T20:02:54.768Z"
   },
   {
    "duration": 77,
    "start_time": "2024-10-08T20:03:11.093Z"
   },
   {
    "duration": 236,
    "start_time": "2024-10-08T20:03:24.718Z"
   },
   {
    "duration": 260,
    "start_time": "2024-10-08T20:13:35.604Z"
   },
   {
    "duration": 16,
    "start_time": "2024-10-08T20:15:05.476Z"
   },
   {
    "duration": 5,
    "start_time": "2024-10-08T20:15:18.020Z"
   },
   {
    "duration": 24,
    "start_time": "2024-10-08T20:16:21.111Z"
   },
   {
    "duration": 14,
    "start_time": "2024-10-08T20:16:39.243Z"
   },
   {
    "duration": 11,
    "start_time": "2024-10-08T20:16:53.008Z"
   },
   {
    "duration": 249,
    "start_time": "2024-10-08T20:17:11.915Z"
   },
   {
    "duration": 880,
    "start_time": "2024-10-08T20:17:16.588Z"
   },
   {
    "duration": 386,
    "start_time": "2024-10-08T20:17:17.471Z"
   },
   {
    "duration": 301,
    "start_time": "2024-10-08T20:17:17.859Z"
   },
   {
    "duration": 180,
    "start_time": "2024-10-08T20:17:18.162Z"
   },
   {
    "duration": 27,
    "start_time": "2024-10-08T20:17:18.346Z"
   },
   {
    "duration": 16,
    "start_time": "2024-10-08T20:17:18.375Z"
   },
   {
    "duration": 42,
    "start_time": "2024-10-08T20:17:18.393Z"
   },
   {
    "duration": 9,
    "start_time": "2024-10-08T20:17:18.437Z"
   },
   {
    "duration": 299,
    "start_time": "2024-10-08T20:17:18.448Z"
   },
   {
    "duration": 23,
    "start_time": "2024-10-08T20:17:18.749Z"
   },
   {
    "duration": 9,
    "start_time": "2024-10-08T20:17:18.773Z"
   },
   {
    "duration": 916,
    "start_time": "2024-10-08T20:17:18.784Z"
   },
   {
    "duration": 259,
    "start_time": "2024-10-08T20:17:19.702Z"
   },
   {
    "duration": 10,
    "start_time": "2024-10-08T20:19:10.027Z"
   },
   {
    "duration": 157,
    "start_time": "2024-10-08T20:19:39.051Z"
   },
   {
    "duration": 288,
    "start_time": "2024-10-08T20:20:50.359Z"
   },
   {
    "duration": 3,
    "start_time": "2024-10-08T20:21:04.942Z"
   },
   {
    "duration": 21,
    "start_time": "2024-10-08T20:21:48.369Z"
   },
   {
    "duration": 11,
    "start_time": "2024-10-08T20:21:53.040Z"
   },
   {
    "duration": 31,
    "start_time": "2024-10-08T20:23:26.771Z"
   },
   {
    "duration": 189,
    "start_time": "2024-10-08T20:23:53.613Z"
   },
   {
    "duration": 40,
    "start_time": "2024-10-08T20:24:13.415Z"
   },
   {
    "duration": 2545,
    "start_time": "2024-10-08T23:50:09.662Z"
   },
   {
    "duration": 480,
    "start_time": "2024-10-08T23:50:12.209Z"
   },
   {
    "duration": 284,
    "start_time": "2024-10-08T23:50:12.690Z"
   },
   {
    "duration": 176,
    "start_time": "2024-10-08T23:50:12.976Z"
   },
   {
    "duration": 26,
    "start_time": "2024-10-08T23:50:13.155Z"
   },
   {
    "duration": 28,
    "start_time": "2024-10-08T23:50:13.183Z"
   },
   {
    "duration": 16,
    "start_time": "2024-10-08T23:50:13.213Z"
   },
   {
    "duration": 9,
    "start_time": "2024-10-08T23:50:13.230Z"
   },
   {
    "duration": 312,
    "start_time": "2024-10-08T23:50:13.241Z"
   },
   {
    "duration": 25,
    "start_time": "2024-10-08T23:50:13.554Z"
   },
   {
    "duration": 9,
    "start_time": "2024-10-08T23:50:13.581Z"
   },
   {
    "duration": 840,
    "start_time": "2024-10-08T23:50:13.606Z"
   },
   {
    "duration": 239,
    "start_time": "2024-10-08T23:50:14.447Z"
   },
   {
    "duration": 166,
    "start_time": "2024-10-08T23:50:14.689Z"
   },
   {
    "duration": 12,
    "start_time": "2024-10-08T23:50:14.856Z"
   },
   {
    "duration": 51,
    "start_time": "2024-10-08T23:50:14.870Z"
   },
   {
    "duration": 611,
    "start_time": "2024-10-08T23:54:16.790Z"
   },
   {
    "duration": 11,
    "start_time": "2024-10-08T23:54:26.341Z"
   },
   {
    "duration": 2518,
    "start_time": "2024-10-12T21:38:56.398Z"
   },
   {
    "duration": 500,
    "start_time": "2024-10-12T21:38:58.919Z"
   },
   {
    "duration": 222,
    "start_time": "2024-10-12T21:38:59.420Z"
   },
   {
    "duration": 156,
    "start_time": "2024-10-12T21:38:59.644Z"
   },
   {
    "duration": 33,
    "start_time": "2024-10-12T21:38:59.804Z"
   },
   {
    "duration": 15,
    "start_time": "2024-10-12T21:38:59.839Z"
   },
   {
    "duration": 15,
    "start_time": "2024-10-12T21:38:59.856Z"
   },
   {
    "duration": 9,
    "start_time": "2024-10-12T21:38:59.873Z"
   },
   {
    "duration": 311,
    "start_time": "2024-10-12T21:38:59.884Z"
   },
   {
    "duration": 27,
    "start_time": "2024-10-12T21:39:00.197Z"
   },
   {
    "duration": 8,
    "start_time": "2024-10-12T21:39:00.225Z"
   },
   {
    "duration": 857,
    "start_time": "2024-10-12T21:39:00.235Z"
   },
   {
    "duration": 238,
    "start_time": "2024-10-12T21:39:01.094Z"
   },
   {
    "duration": 215,
    "start_time": "2024-10-12T21:39:01.335Z"
   },
   {
    "duration": 10,
    "start_time": "2024-10-12T21:39:01.552Z"
   },
   {
    "duration": 54,
    "start_time": "2024-10-12T21:39:01.564Z"
   },
   {
    "duration": 10,
    "start_time": "2024-10-12T21:39:01.620Z"
   },
   {
    "duration": 4,
    "start_time": "2024-10-12T21:39:59.440Z"
   },
   {
    "duration": 3,
    "start_time": "2024-10-12T21:41:23.075Z"
   },
   {
    "duration": 7,
    "start_time": "2024-10-12T21:45:13.705Z"
   },
   {
    "duration": 329,
    "start_time": "2024-10-12T21:46:00.031Z"
   },
   {
    "duration": 24,
    "start_time": "2024-10-12T21:46:03.093Z"
   },
   {
    "duration": 7,
    "start_time": "2024-10-12T21:46:10.768Z"
   },
   {
    "duration": 9,
    "start_time": "2024-10-12T21:56:02.699Z"
   },
   {
    "duration": 2539,
    "start_time": "2024-10-14T00:48:12.161Z"
   },
   {
    "duration": 470,
    "start_time": "2024-10-14T00:48:14.703Z"
   },
   {
    "duration": 241,
    "start_time": "2024-10-14T00:48:15.175Z"
   },
   {
    "duration": 161,
    "start_time": "2024-10-14T00:48:15.418Z"
   },
   {
    "duration": 32,
    "start_time": "2024-10-14T00:48:15.580Z"
   },
   {
    "duration": 16,
    "start_time": "2024-10-14T00:48:15.613Z"
   },
   {
    "duration": 16,
    "start_time": "2024-10-14T00:48:15.630Z"
   },
   {
    "duration": 9,
    "start_time": "2024-10-14T00:48:15.647Z"
   },
   {
    "duration": 296,
    "start_time": "2024-10-14T00:48:15.658Z"
   },
   {
    "duration": 24,
    "start_time": "2024-10-14T00:48:15.957Z"
   },
   {
    "duration": 9,
    "start_time": "2024-10-14T00:48:15.983Z"
   },
   {
    "duration": 826,
    "start_time": "2024-10-14T00:48:15.994Z"
   },
   {
    "duration": 236,
    "start_time": "2024-10-14T00:48:16.823Z"
   },
   {
    "duration": 159,
    "start_time": "2024-10-14T00:48:17.061Z"
   },
   {
    "duration": 11,
    "start_time": "2024-10-14T00:48:17.227Z"
   },
   {
    "duration": 40,
    "start_time": "2024-10-14T00:48:17.239Z"
   },
   {
    "duration": 4,
    "start_time": "2024-10-14T00:48:17.280Z"
   },
   {
    "duration": 297,
    "start_time": "2024-10-14T00:48:17.285Z"
   },
   {
    "duration": 0,
    "start_time": "2024-10-14T00:48:17.584Z"
   },
   {
    "duration": 132,
    "start_time": "2024-10-14T00:48:58.519Z"
   },
   {
    "duration": 145,
    "start_time": "2024-10-14T00:49:47.831Z"
   },
   {
    "duration": 7,
    "start_time": "2024-10-14T01:07:16.404Z"
   },
   {
    "duration": 372,
    "start_time": "2024-10-14T01:07:25.907Z"
   },
   {
    "duration": 46,
    "start_time": "2024-10-14T01:07:57.955Z"
   },
   {
    "duration": 4,
    "start_time": "2024-10-14T01:08:36.977Z"
   },
   {
    "duration": 50,
    "start_time": "2024-10-14T01:09:19.553Z"
   },
   {
    "duration": 806,
    "start_time": "2024-10-14T01:10:43.328Z"
   },
   {
    "duration": 365,
    "start_time": "2024-10-14T01:10:44.136Z"
   },
   {
    "duration": 255,
    "start_time": "2024-10-14T01:10:44.503Z"
   },
   {
    "duration": 173,
    "start_time": "2024-10-14T01:10:44.759Z"
   },
   {
    "duration": 32,
    "start_time": "2024-10-14T01:10:44.935Z"
   },
   {
    "duration": 18,
    "start_time": "2024-10-14T01:10:44.969Z"
   },
   {
    "duration": 41,
    "start_time": "2024-10-14T01:10:44.989Z"
   },
   {
    "duration": 10,
    "start_time": "2024-10-14T01:10:45.032Z"
   },
   {
    "duration": 317,
    "start_time": "2024-10-14T01:10:45.044Z"
   },
   {
    "duration": 22,
    "start_time": "2024-10-14T01:10:45.363Z"
   },
   {
    "duration": 14,
    "start_time": "2024-10-14T01:10:45.386Z"
   },
   {
    "duration": 842,
    "start_time": "2024-10-14T01:10:45.412Z"
   },
   {
    "duration": 237,
    "start_time": "2024-10-14T01:10:46.256Z"
   },
   {
    "duration": 161,
    "start_time": "2024-10-14T01:10:46.497Z"
   },
   {
    "duration": 11,
    "start_time": "2024-10-14T01:10:46.659Z"
   },
   {
    "duration": 51,
    "start_time": "2024-10-14T01:10:46.671Z"
   },
   {
    "duration": 3,
    "start_time": "2024-10-14T01:10:46.724Z"
   },
   {
    "duration": 140,
    "start_time": "2024-10-14T01:10:46.729Z"
   },
   {
    "duration": 157,
    "start_time": "2024-10-14T01:10:46.871Z"
   },
   {
    "duration": 594,
    "start_time": "2024-10-14T01:10:47.029Z"
   },
   {
    "duration": 48,
    "start_time": "2024-10-14T01:12:30.800Z"
   },
   {
    "duration": 47,
    "start_time": "2024-10-14T01:21:34.133Z"
   },
   {
    "duration": 72,
    "start_time": "2024-10-14T01:22:06.643Z"
   },
   {
    "duration": 63,
    "start_time": "2024-10-14T01:22:49.288Z"
   },
   {
    "duration": 52,
    "start_time": "2024-10-14T01:27:52.176Z"
   },
   {
    "duration": 56,
    "start_time": "2024-10-14T01:29:59.903Z"
   },
   {
    "duration": 50,
    "start_time": "2024-10-14T01:30:29.778Z"
   },
   {
    "duration": 52,
    "start_time": "2024-10-14T01:30:40.626Z"
   },
   {
    "duration": 51,
    "start_time": "2024-10-14T01:36:49.479Z"
   },
   {
    "duration": 63,
    "start_time": "2024-10-14T01:46:43.055Z"
   },
   {
    "duration": 124,
    "start_time": "2024-10-14T01:56:10.357Z"
   },
   {
    "duration": 130,
    "start_time": "2024-10-14T01:57:04.963Z"
   },
   {
    "duration": 846,
    "start_time": "2024-10-14T02:08:16.426Z"
   },
   {
    "duration": 457,
    "start_time": "2024-10-14T02:08:17.274Z"
   },
   {
    "duration": 237,
    "start_time": "2024-10-14T02:08:17.733Z"
   },
   {
    "duration": 171,
    "start_time": "2024-10-14T02:08:17.973Z"
   },
   {
    "duration": 28,
    "start_time": "2024-10-14T02:08:18.146Z"
   },
   {
    "duration": 16,
    "start_time": "2024-10-14T02:08:18.176Z"
   },
   {
    "duration": 33,
    "start_time": "2024-10-14T02:08:18.193Z"
   },
   {
    "duration": 9,
    "start_time": "2024-10-14T02:08:18.228Z"
   },
   {
    "duration": 291,
    "start_time": "2024-10-14T02:08:18.239Z"
   },
   {
    "duration": 25,
    "start_time": "2024-10-14T02:08:18.532Z"
   },
   {
    "duration": 9,
    "start_time": "2024-10-14T02:08:18.559Z"
   },
   {
    "duration": 858,
    "start_time": "2024-10-14T02:08:18.570Z"
   },
   {
    "duration": 245,
    "start_time": "2024-10-14T02:08:19.430Z"
   },
   {
    "duration": 173,
    "start_time": "2024-10-14T02:08:19.677Z"
   },
   {
    "duration": 12,
    "start_time": "2024-10-14T02:08:19.852Z"
   },
   {
    "duration": 56,
    "start_time": "2024-10-14T02:08:19.866Z"
   },
   {
    "duration": 4,
    "start_time": "2024-10-14T02:08:19.924Z"
   },
   {
    "duration": 161,
    "start_time": "2024-10-14T02:08:19.930Z"
   },
   {
    "duration": 166,
    "start_time": "2024-10-14T02:08:20.093Z"
   },
   {
    "duration": 873,
    "start_time": "2024-10-14T02:08:44.335Z"
   },
   {
    "duration": 448,
    "start_time": "2024-10-14T02:08:45.210Z"
   },
   {
    "duration": 258,
    "start_time": "2024-10-14T02:08:45.660Z"
   },
   {
    "duration": 161,
    "start_time": "2024-10-14T02:08:45.921Z"
   },
   {
    "duration": 35,
    "start_time": "2024-10-14T02:08:46.083Z"
   },
   {
    "duration": 16,
    "start_time": "2024-10-14T02:08:46.120Z"
   },
   {
    "duration": 17,
    "start_time": "2024-10-14T02:08:46.138Z"
   },
   {
    "duration": 9,
    "start_time": "2024-10-14T02:08:46.157Z"
   },
   {
    "duration": 298,
    "start_time": "2024-10-14T02:08:46.168Z"
   },
   {
    "duration": 21,
    "start_time": "2024-10-14T02:08:46.469Z"
   },
   {
    "duration": 22,
    "start_time": "2024-10-14T02:08:46.492Z"
   },
   {
    "duration": 848,
    "start_time": "2024-10-14T02:08:46.516Z"
   },
   {
    "duration": 236,
    "start_time": "2024-10-14T02:08:47.366Z"
   },
   {
    "duration": 162,
    "start_time": "2024-10-14T02:08:47.604Z"
   },
   {
    "duration": 13,
    "start_time": "2024-10-14T02:08:47.767Z"
   },
   {
    "duration": 56,
    "start_time": "2024-10-14T02:08:47.782Z"
   },
   {
    "duration": 4,
    "start_time": "2024-10-14T02:08:47.839Z"
   },
   {
    "duration": 142,
    "start_time": "2024-10-14T02:08:47.844Z"
   },
   {
    "duration": 166,
    "start_time": "2024-10-14T02:08:47.988Z"
   },
   {
    "duration": 821,
    "start_time": "2024-10-14T02:12:46.918Z"
   },
   {
    "duration": 462,
    "start_time": "2024-10-14T02:12:47.741Z"
   },
   {
    "duration": 232,
    "start_time": "2024-10-14T02:12:48.205Z"
   },
   {
    "duration": 159,
    "start_time": "2024-10-14T02:12:48.439Z"
   },
   {
    "duration": 33,
    "start_time": "2024-10-14T02:12:48.600Z"
   },
   {
    "duration": 15,
    "start_time": "2024-10-14T02:12:48.635Z"
   },
   {
    "duration": 16,
    "start_time": "2024-10-14T02:12:48.651Z"
   },
   {
    "duration": 10,
    "start_time": "2024-10-14T02:12:48.670Z"
   },
   {
    "duration": 295,
    "start_time": "2024-10-14T02:12:48.681Z"
   },
   {
    "duration": 32,
    "start_time": "2024-10-14T02:12:48.979Z"
   },
   {
    "duration": 10,
    "start_time": "2024-10-14T02:12:49.013Z"
   },
   {
    "duration": 863,
    "start_time": "2024-10-14T02:12:49.025Z"
   },
   {
    "duration": 242,
    "start_time": "2024-10-14T02:12:49.890Z"
   },
   {
    "duration": 161,
    "start_time": "2024-10-14T02:12:50.134Z"
   },
   {
    "duration": 19,
    "start_time": "2024-10-14T02:12:50.297Z"
   },
   {
    "duration": 37,
    "start_time": "2024-10-14T02:12:50.319Z"
   },
   {
    "duration": 3,
    "start_time": "2024-10-14T02:12:50.358Z"
   },
   {
    "duration": 148,
    "start_time": "2024-10-14T02:12:50.363Z"
   },
   {
    "duration": 149,
    "start_time": "2024-10-14T02:12:50.513Z"
   },
   {
    "duration": 162,
    "start_time": "2024-10-14T02:13:06.998Z"
   },
   {
    "duration": 819,
    "start_time": "2024-10-14T02:13:13.758Z"
   },
   {
    "duration": 462,
    "start_time": "2024-10-14T02:13:14.580Z"
   },
   {
    "duration": 240,
    "start_time": "2024-10-14T02:13:15.043Z"
   },
   {
    "duration": 160,
    "start_time": "2024-10-14T02:13:15.286Z"
   },
   {
    "duration": 27,
    "start_time": "2024-10-14T02:13:15.448Z"
   },
   {
    "duration": 16,
    "start_time": "2024-10-14T02:13:15.476Z"
   },
   {
    "duration": 32,
    "start_time": "2024-10-14T02:13:15.494Z"
   },
   {
    "duration": 10,
    "start_time": "2024-10-14T02:13:15.528Z"
   },
   {
    "duration": 285,
    "start_time": "2024-10-14T02:13:15.541Z"
   },
   {
    "duration": 21,
    "start_time": "2024-10-14T02:13:15.830Z"
   },
   {
    "duration": 9,
    "start_time": "2024-10-14T02:13:15.853Z"
   },
   {
    "duration": 877,
    "start_time": "2024-10-14T02:13:15.863Z"
   },
   {
    "duration": 239,
    "start_time": "2024-10-14T02:13:16.742Z"
   },
   {
    "duration": 164,
    "start_time": "2024-10-14T02:13:16.983Z"
   },
   {
    "duration": 13,
    "start_time": "2024-10-14T02:13:17.149Z"
   },
   {
    "duration": 48,
    "start_time": "2024-10-14T02:13:17.164Z"
   },
   {
    "duration": 3,
    "start_time": "2024-10-14T02:13:17.214Z"
   },
   {
    "duration": 145,
    "start_time": "2024-10-14T02:13:17.219Z"
   },
   {
    "duration": 163,
    "start_time": "2024-10-14T02:13:17.366Z"
   },
   {
    "duration": 127,
    "start_time": "2024-10-14T02:13:17.531Z"
   },
   {
    "duration": 156,
    "start_time": "2024-10-14T02:13:28.420Z"
   },
   {
    "duration": 2520,
    "start_time": "2024-10-14T17:12:21.016Z"
   },
   {
    "duration": 408,
    "start_time": "2024-10-14T17:12:23.539Z"
   },
   {
    "duration": 227,
    "start_time": "2024-10-14T17:12:23.949Z"
   },
   {
    "duration": 162,
    "start_time": "2024-10-14T17:12:24.178Z"
   },
   {
    "duration": 31,
    "start_time": "2024-10-14T17:12:24.342Z"
   },
   {
    "duration": 15,
    "start_time": "2024-10-14T17:12:24.374Z"
   },
   {
    "duration": 15,
    "start_time": "2024-10-14T17:12:24.391Z"
   },
   {
    "duration": 9,
    "start_time": "2024-10-14T17:12:24.408Z"
   },
   {
    "duration": 296,
    "start_time": "2024-10-14T17:12:24.418Z"
   },
   {
    "duration": 26,
    "start_time": "2024-10-14T17:12:24.717Z"
   },
   {
    "duration": 25,
    "start_time": "2024-10-14T17:12:24.745Z"
   },
   {
    "duration": 802,
    "start_time": "2024-10-14T17:12:24.772Z"
   },
   {
    "duration": 242,
    "start_time": "2024-10-14T17:12:25.576Z"
   },
   {
    "duration": 168,
    "start_time": "2024-10-14T17:12:25.820Z"
   },
   {
    "duration": 10,
    "start_time": "2024-10-14T17:12:25.990Z"
   },
   {
    "duration": 113,
    "start_time": "2024-10-14T17:12:26.002Z"
   },
   {
    "duration": 3,
    "start_time": "2024-10-14T17:12:26.118Z"
   },
   {
    "duration": 213,
    "start_time": "2024-10-14T17:12:26.124Z"
   },
   {
    "duration": 204,
    "start_time": "2024-10-14T17:12:26.340Z"
   },
   {
    "duration": 2759,
    "start_time": "2024-10-15T20:32:18.315Z"
   },
   {
    "duration": 421,
    "start_time": "2024-10-15T20:32:21.077Z"
   },
   {
    "duration": 245,
    "start_time": "2024-10-15T20:32:21.500Z"
   },
   {
    "duration": 158,
    "start_time": "2024-10-15T20:32:21.747Z"
   },
   {
    "duration": 25,
    "start_time": "2024-10-15T20:32:21.908Z"
   },
   {
    "duration": 17,
    "start_time": "2024-10-15T20:32:21.935Z"
   },
   {
    "duration": 37,
    "start_time": "2024-10-15T20:32:21.953Z"
   },
   {
    "duration": 9,
    "start_time": "2024-10-15T20:32:21.992Z"
   },
   {
    "duration": 301,
    "start_time": "2024-10-15T20:32:22.003Z"
   },
   {
    "duration": 22,
    "start_time": "2024-10-15T20:32:22.306Z"
   },
   {
    "duration": 9,
    "start_time": "2024-10-15T20:32:22.330Z"
   },
   {
    "duration": 863,
    "start_time": "2024-10-15T20:32:22.340Z"
   },
   {
    "duration": 248,
    "start_time": "2024-10-15T20:32:23.205Z"
   },
   {
    "duration": 221,
    "start_time": "2024-10-15T20:32:23.457Z"
   },
   {
    "duration": 15,
    "start_time": "2024-10-15T20:32:23.680Z"
   },
   {
    "duration": 37,
    "start_time": "2024-10-15T20:32:23.697Z"
   },
   {
    "duration": 4,
    "start_time": "2024-10-15T20:32:23.735Z"
   },
   {
    "duration": 154,
    "start_time": "2024-10-15T20:32:23.741Z"
   },
   {
    "duration": 167,
    "start_time": "2024-10-15T20:32:23.897Z"
   },
   {
    "duration": 174,
    "start_time": "2024-10-15T20:32:43.185Z"
   },
   {
    "duration": 859,
    "start_time": "2024-10-15T20:32:50.006Z"
   },
   {
    "duration": 457,
    "start_time": "2024-10-15T20:32:50.868Z"
   },
   {
    "duration": 230,
    "start_time": "2024-10-15T20:32:51.327Z"
   },
   {
    "duration": 163,
    "start_time": "2024-10-15T20:32:51.560Z"
   },
   {
    "duration": 27,
    "start_time": "2024-10-15T20:32:51.725Z"
   },
   {
    "duration": 34,
    "start_time": "2024-10-15T20:32:51.753Z"
   },
   {
    "duration": 17,
    "start_time": "2024-10-15T20:32:51.789Z"
   },
   {
    "duration": 9,
    "start_time": "2024-10-15T20:32:51.808Z"
   },
   {
    "duration": 289,
    "start_time": "2024-10-15T20:32:51.819Z"
   },
   {
    "duration": 25,
    "start_time": "2024-10-15T20:32:52.111Z"
   },
   {
    "duration": 10,
    "start_time": "2024-10-15T20:32:52.139Z"
   },
   {
    "duration": 872,
    "start_time": "2024-10-15T20:32:52.151Z"
   },
   {
    "duration": 272,
    "start_time": "2024-10-15T20:32:53.026Z"
   },
   {
    "duration": 178,
    "start_time": "2024-10-15T20:32:53.300Z"
   },
   {
    "duration": 16,
    "start_time": "2024-10-15T20:32:53.480Z"
   },
   {
    "duration": 40,
    "start_time": "2024-10-15T20:32:53.498Z"
   },
   {
    "duration": 3,
    "start_time": "2024-10-15T20:32:53.541Z"
   },
   {
    "duration": 158,
    "start_time": "2024-10-15T20:32:53.546Z"
   },
   {
    "duration": 160,
    "start_time": "2024-10-15T20:32:53.705Z"
   },
   {
    "duration": 139,
    "start_time": "2024-10-15T20:32:53.867Z"
   },
   {
    "duration": 366,
    "start_time": "2024-10-15T20:34:58.929Z"
   },
   {
    "duration": 163,
    "start_time": "2024-10-15T20:35:08.180Z"
   },
   {
    "duration": 145,
    "start_time": "2024-10-15T20:37:08.293Z"
   },
   {
    "duration": 183,
    "start_time": "2024-10-15T21:19:42.006Z"
   },
   {
    "duration": 833,
    "start_time": "2024-10-15T21:19:53.228Z"
   },
   {
    "duration": 414,
    "start_time": "2024-10-15T21:19:54.063Z"
   },
   {
    "duration": 232,
    "start_time": "2024-10-15T21:19:54.479Z"
   },
   {
    "duration": 156,
    "start_time": "2024-10-15T21:19:54.713Z"
   },
   {
    "duration": 37,
    "start_time": "2024-10-15T21:19:54.872Z"
   },
   {
    "duration": 20,
    "start_time": "2024-10-15T21:19:54.911Z"
   },
   {
    "duration": 17,
    "start_time": "2024-10-15T21:19:54.932Z"
   },
   {
    "duration": 9,
    "start_time": "2024-10-15T21:19:54.950Z"
   },
   {
    "duration": 293,
    "start_time": "2024-10-15T21:19:54.961Z"
   },
   {
    "duration": 33,
    "start_time": "2024-10-15T21:19:55.256Z"
   },
   {
    "duration": 8,
    "start_time": "2024-10-15T21:19:55.291Z"
   },
   {
    "duration": 883,
    "start_time": "2024-10-15T21:19:55.302Z"
   },
   {
    "duration": 254,
    "start_time": "2024-10-15T21:19:56.187Z"
   },
   {
    "duration": 161,
    "start_time": "2024-10-15T21:19:56.444Z"
   },
   {
    "duration": 11,
    "start_time": "2024-10-15T21:19:56.606Z"
   },
   {
    "duration": 38,
    "start_time": "2024-10-15T21:19:56.618Z"
   },
   {
    "duration": 3,
    "start_time": "2024-10-15T21:19:56.658Z"
   },
   {
    "duration": 135,
    "start_time": "2024-10-15T21:19:56.686Z"
   },
   {
    "duration": 160,
    "start_time": "2024-10-15T21:19:56.823Z"
   },
   {
    "duration": 159,
    "start_time": "2024-10-15T21:31:11.249Z"
   },
   {
    "duration": 865,
    "start_time": "2024-10-15T21:31:15.515Z"
   },
   {
    "duration": 414,
    "start_time": "2024-10-15T21:31:16.382Z"
   },
   {
    "duration": 248,
    "start_time": "2024-10-15T21:31:16.798Z"
   },
   {
    "duration": 157,
    "start_time": "2024-10-15T21:31:17.049Z"
   },
   {
    "duration": 27,
    "start_time": "2024-10-15T21:31:17.208Z"
   },
   {
    "duration": 16,
    "start_time": "2024-10-15T21:31:17.236Z"
   },
   {
    "duration": 40,
    "start_time": "2024-10-15T21:31:17.253Z"
   },
   {
    "duration": 9,
    "start_time": "2024-10-15T21:31:17.295Z"
   },
   {
    "duration": 282,
    "start_time": "2024-10-15T21:31:17.306Z"
   },
   {
    "duration": 24,
    "start_time": "2024-10-15T21:31:17.591Z"
   },
   {
    "duration": 8,
    "start_time": "2024-10-15T21:31:17.617Z"
   },
   {
    "duration": 916,
    "start_time": "2024-10-15T21:31:17.627Z"
   },
   {
    "duration": 234,
    "start_time": "2024-10-15T21:31:18.545Z"
   },
   {
    "duration": 162,
    "start_time": "2024-10-15T21:31:18.781Z"
   },
   {
    "duration": 10,
    "start_time": "2024-10-15T21:31:18.945Z"
   },
   {
    "duration": 56,
    "start_time": "2024-10-15T21:31:18.958Z"
   },
   {
    "duration": 7,
    "start_time": "2024-10-15T21:31:19.016Z"
   },
   {
    "duration": 146,
    "start_time": "2024-10-15T21:31:19.026Z"
   },
   {
    "duration": 164,
    "start_time": "2024-10-15T21:31:19.174Z"
   },
   {
    "duration": 181,
    "start_time": "2024-10-15T21:31:19.342Z"
   },
   {
    "duration": 369,
    "start_time": "2024-10-15T21:32:27.551Z"
   },
   {
    "duration": 147,
    "start_time": "2024-10-15T21:32:56.741Z"
   },
   {
    "duration": 150,
    "start_time": "2024-10-15T21:33:27.273Z"
   },
   {
    "duration": 282,
    "start_time": "2024-10-15T21:34:40.231Z"
   },
   {
    "duration": 183,
    "start_time": "2024-10-15T21:34:55.808Z"
   },
   {
    "duration": 339,
    "start_time": "2024-10-15T21:36:58.569Z"
   },
   {
    "duration": 18,
    "start_time": "2024-10-15T22:06:18.907Z"
   },
   {
    "duration": 15,
    "start_time": "2024-10-15T22:06:38.546Z"
   },
   {
    "duration": 134,
    "start_time": "2024-10-15T22:07:21.073Z"
   },
   {
    "duration": 2546,
    "start_time": "2024-10-15T23:10:05.769Z"
   },
   {
    "duration": 399,
    "start_time": "2024-10-15T23:10:08.317Z"
   },
   {
    "duration": 235,
    "start_time": "2024-10-15T23:10:08.718Z"
   },
   {
    "duration": 163,
    "start_time": "2024-10-15T23:10:08.955Z"
   },
   {
    "duration": 27,
    "start_time": "2024-10-15T23:10:09.120Z"
   },
   {
    "duration": 16,
    "start_time": "2024-10-15T23:10:09.149Z"
   },
   {
    "duration": 34,
    "start_time": "2024-10-15T23:10:09.166Z"
   },
   {
    "duration": 9,
    "start_time": "2024-10-15T23:10:09.201Z"
   },
   {
    "duration": 277,
    "start_time": "2024-10-15T23:10:09.212Z"
   },
   {
    "duration": 24,
    "start_time": "2024-10-15T23:10:09.492Z"
   },
   {
    "duration": 9,
    "start_time": "2024-10-15T23:10:09.517Z"
   },
   {
    "duration": 886,
    "start_time": "2024-10-15T23:10:09.529Z"
   },
   {
    "duration": 234,
    "start_time": "2024-10-15T23:10:10.417Z"
   },
   {
    "duration": 158,
    "start_time": "2024-10-15T23:10:10.653Z"
   },
   {
    "duration": 9,
    "start_time": "2024-10-15T23:10:10.813Z"
   },
   {
    "duration": 38,
    "start_time": "2024-10-15T23:10:10.824Z"
   },
   {
    "duration": 3,
    "start_time": "2024-10-15T23:10:10.864Z"
   },
   {
    "duration": 157,
    "start_time": "2024-10-15T23:10:10.868Z"
   },
   {
    "duration": 159,
    "start_time": "2024-10-15T23:10:11.027Z"
   },
   {
    "duration": 295,
    "start_time": "2024-10-15T23:10:11.189Z"
   },
   {
    "duration": 139,
    "start_time": "2024-10-15T23:10:11.487Z"
   },
   {
    "duration": 2532,
    "start_time": "2024-10-16T00:03:51.906Z"
   },
   {
    "duration": 411,
    "start_time": "2024-10-16T00:03:54.440Z"
   },
   {
    "duration": 226,
    "start_time": "2024-10-16T00:03:54.852Z"
   },
   {
    "duration": 157,
    "start_time": "2024-10-16T00:03:55.080Z"
   },
   {
    "duration": 26,
    "start_time": "2024-10-16T00:03:55.240Z"
   },
   {
    "duration": 25,
    "start_time": "2024-10-16T00:03:55.268Z"
   },
   {
    "duration": 16,
    "start_time": "2024-10-16T00:03:55.295Z"
   },
   {
    "duration": 9,
    "start_time": "2024-10-16T00:03:55.313Z"
   },
   {
    "duration": 294,
    "start_time": "2024-10-16T00:03:55.324Z"
   },
   {
    "duration": 27,
    "start_time": "2024-10-16T00:03:55.620Z"
   },
   {
    "duration": 9,
    "start_time": "2024-10-16T00:03:55.649Z"
   },
   {
    "duration": 815,
    "start_time": "2024-10-16T00:03:55.660Z"
   },
   {
    "duration": 282,
    "start_time": "2024-10-16T00:03:56.477Z"
   },
   {
    "duration": 161,
    "start_time": "2024-10-16T00:03:56.762Z"
   },
   {
    "duration": 11,
    "start_time": "2024-10-16T00:03:56.924Z"
   },
   {
    "duration": 51,
    "start_time": "2024-10-16T00:03:56.936Z"
   },
   {
    "duration": 4,
    "start_time": "2024-10-16T00:03:56.989Z"
   },
   {
    "duration": 142,
    "start_time": "2024-10-16T00:03:56.995Z"
   },
   {
    "duration": 156,
    "start_time": "2024-10-16T00:03:57.141Z"
   },
   {
    "duration": 288,
    "start_time": "2024-10-16T00:03:57.300Z"
   },
   {
    "duration": 134,
    "start_time": "2024-10-16T00:03:57.590Z"
   },
   {
    "duration": 743,
    "start_time": "2024-10-16T00:24:30.056Z"
   },
   {
    "duration": 379,
    "start_time": "2024-10-16T00:24:30.801Z"
   },
   {
    "duration": 234,
    "start_time": "2024-10-16T00:24:31.181Z"
   },
   {
    "duration": 170,
    "start_time": "2024-10-16T00:24:31.417Z"
   },
   {
    "duration": 26,
    "start_time": "2024-10-16T00:24:31.589Z"
   },
   {
    "duration": 15,
    "start_time": "2024-10-16T00:24:31.617Z"
   },
   {
    "duration": 15,
    "start_time": "2024-10-16T00:24:31.633Z"
   },
   {
    "duration": 9,
    "start_time": "2024-10-16T00:24:31.649Z"
   },
   {
    "duration": 267,
    "start_time": "2024-10-16T00:24:31.687Z"
   },
   {
    "duration": 32,
    "start_time": "2024-10-16T00:24:31.956Z"
   },
   {
    "duration": 9,
    "start_time": "2024-10-16T00:24:31.989Z"
   },
   {
    "duration": 867,
    "start_time": "2024-10-16T00:24:32.000Z"
   },
   {
    "duration": 235,
    "start_time": "2024-10-16T00:24:32.869Z"
   },
   {
    "duration": 179,
    "start_time": "2024-10-16T00:24:33.109Z"
   },
   {
    "duration": 11,
    "start_time": "2024-10-16T00:24:33.290Z"
   },
   {
    "duration": 38,
    "start_time": "2024-10-16T00:24:33.303Z"
   },
   {
    "duration": 3,
    "start_time": "2024-10-16T00:24:33.343Z"
   },
   {
    "duration": 156,
    "start_time": "2024-10-16T00:24:33.348Z"
   },
   {
    "duration": 164,
    "start_time": "2024-10-16T00:24:33.505Z"
   },
   {
    "duration": 301,
    "start_time": "2024-10-16T00:24:33.671Z"
   },
   {
    "duration": 140,
    "start_time": "2024-10-16T00:24:33.975Z"
   },
   {
    "duration": 758,
    "start_time": "2024-10-16T00:27:43.640Z"
   },
   {
    "duration": 348,
    "start_time": "2024-10-16T00:27:44.399Z"
   },
   {
    "duration": 223,
    "start_time": "2024-10-16T00:27:44.748Z"
   },
   {
    "duration": 158,
    "start_time": "2024-10-16T00:27:44.974Z"
   },
   {
    "duration": 26,
    "start_time": "2024-10-16T00:27:45.134Z"
   },
   {
    "duration": 27,
    "start_time": "2024-10-16T00:27:45.162Z"
   },
   {
    "duration": 16,
    "start_time": "2024-10-16T00:27:45.190Z"
   },
   {
    "duration": 8,
    "start_time": "2024-10-16T00:27:45.207Z"
   },
   {
    "duration": 284,
    "start_time": "2024-10-16T00:27:45.217Z"
   },
   {
    "duration": 21,
    "start_time": "2024-10-16T00:27:45.504Z"
   },
   {
    "duration": 11,
    "start_time": "2024-10-16T00:27:45.527Z"
   },
   {
    "duration": 887,
    "start_time": "2024-10-16T00:27:45.540Z"
   },
   {
    "duration": 255,
    "start_time": "2024-10-16T00:27:46.428Z"
   },
   {
    "duration": 158,
    "start_time": "2024-10-16T00:27:46.684Z"
   },
   {
    "duration": 10,
    "start_time": "2024-10-16T00:27:46.843Z"
   },
   {
    "duration": 50,
    "start_time": "2024-10-16T00:27:46.855Z"
   },
   {
    "duration": 3,
    "start_time": "2024-10-16T00:27:46.907Z"
   },
   {
    "duration": 142,
    "start_time": "2024-10-16T00:27:46.911Z"
   },
   {
    "duration": 157,
    "start_time": "2024-10-16T00:27:47.055Z"
   },
   {
    "duration": 294,
    "start_time": "2024-10-16T00:27:47.214Z"
   },
   {
    "duration": 139,
    "start_time": "2024-10-16T00:27:47.510Z"
   }
  ],
  "kernelspec": {
   "display_name": "Python 3 (ipykernel)",
   "language": "python",
   "name": "python3"
  },
  "language_info": {
   "codemirror_mode": {
    "name": "ipython",
    "version": 3
   },
   "file_extension": ".py",
   "mimetype": "text/x-python",
   "name": "python",
   "nbconvert_exporter": "python",
   "pygments_lexer": "ipython3",
   "version": "3.9.19"
  },
  "toc": {
   "base_numbering": 1,
   "nav_menu": {},
   "number_sections": true,
   "sideBar": true,
   "skip_h1_title": true,
   "title_cell": "Table of Contents",
   "title_sidebar": "Contents",
   "toc_cell": false,
   "toc_position": {
    "height": "calc(100% - 180px)",
    "left": "10px",
    "top": "150px",
    "width": "373.8px"
   },
   "toc_section_display": true,
   "toc_window_display": true
  }
 },
 "nbformat": 4,
 "nbformat_minor": 2
}
